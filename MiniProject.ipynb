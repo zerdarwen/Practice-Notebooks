{
 "cells": [
  {
   "cell_type": "code",
   "execution_count": null,
   "id": "fd9cc84b-f015-4976-9411-33069b8efab6",
   "metadata": {},
   "outputs": [
    {
     "name": "stdout",
     "output_type": "stream",
     "text": [
      "Birinci sayıyı giriniz:  30\n",
      "Ikinci sayıyı giriniz:  60\n"
     ]
    },
    {
     "name": "stdout",
     "output_type": "stream",
     "text": [
      "a ve b sayisi arasinda 10 tane 3'e bolunen sayi vardir.\n"
     ]
    }
   ],
   "source": [
    "## Kullanıcının gireceği [a:b] kapalı aralığında 3'e tam olarak bölünebilen kaç sayı vardır?\n",
    "\n",
    "while True:\n",
    "    a = (input(\"Birinci sayıyı giriniz: \"))\n",
    "    if a == \"\":\n",
    "        print(\"Birinci deger bos olamaz\")\n",
    "    elif a.isdigit() == False:\n",
    "        print(\"Lütfen tam sayı giriniz\")\n",
    "    else:\n",
    "        break\n",
    "        \n",
    "while True:\n",
    "        b = (input(\"Ikinci sayıyı giriniz: \"))\n",
    "        if b == \"\":\n",
    "            print(\"Ikinici deger bos olamaz\")\n",
    "        elif b.isdigit() == False:\n",
    "            print(\"Lütfen tam sayı giriniz\")\n",
    "        elif a >= b:\n",
    "            print(\"Ikinci sayı birinci sayıdan buyuk olmalidir!\")    \n",
    "        else:\n",
    "            break\n",
    "\n",
    "a = int(a)\n",
    "b = int(b)\n",
    "\n",
    "sayac=0\n",
    "\n",
    "while a<b:\n",
    "    if a%3==0:\n",
    "       sayac+=1\n",
    "    a+=1\n",
    "\n",
    "print(f\"a ve b sayisi arasinda {sayac} tane 3'e bolunen sayi vardir.\")"
   ]
  },
  {
   "cell_type": "code",
   "execution_count": null,
   "id": "c058e566-09ca-401d-8b90-72265faf3bea",
   "metadata": {},
   "outputs": [
    {
     "name": "stdout",
     "output_type": "stream",
     "text": [
      "Bir tam sayı giriniz:  1nfkp\n"
     ]
    },
    {
     "name": "stdout",
     "output_type": "stream",
     "text": [
      "Lütfen tam sayı giriniz\n"
     ]
    },
    {
     "name": "stdout",
     "output_type": "stream",
     "text": [
      "Bir tam sayı giriniz:   \n"
     ]
    },
    {
     "name": "stdout",
     "output_type": "stream",
     "text": [
      "Lütfen tam sayı giriniz\n"
     ]
    },
    {
     "name": "stdout",
     "output_type": "stream",
     "text": [
      "Bir tam sayı giriniz:  0\n"
     ]
    },
    {
     "name": "stdout",
     "output_type": "stream",
     "text": [
      "n sayısı 0 olamaz!\n"
     ]
    },
    {
     "name": "stdout",
     "output_type": "stream",
     "text": [
      "Bir tam sayı giriniz:  23\n"
     ]
    },
    {
     "name": "stdout",
     "output_type": "stream",
     "text": [
      "Tek sayıların toplamı:144.00, Tek sayıların ortalaması: 12.00\n",
      "Çift sayıların toplamı: 132.00, Çift sayıların ortalaması: 11.00\n"
     ]
    }
   ],
   "source": [
    "##Klavyeden girilecek n tane sayının tek olanlarını ayrı çift olanlarını ayrı toplayıp hem toplamları hem de ortalamalarını yazan bir program yazın\n",
    "\n",
    "tek_sayilar=[]\n",
    "cift_sayilar=[]\n",
    "\n",
    "while True:\n",
    "    n = (input(\"Bir tam sayı giriniz: \"))\n",
    "    if n == \"\":\n",
    "        print(\"Bu kısım bos geçilemez!\")\n",
    "    elif n.isdigit() == False:\n",
    "        print(\"Lütfen tam sayı giriniz\")\n",
    "    elif int(n)==0:\n",
    "        print(\"n sayısı 0 olamaz!\")\n",
    "    else:\n",
    "        break\n",
    "n=int(n)\n",
    "\n",
    "for i in range(0,n+1):\n",
    "   if (i %2==1):\n",
    "       tek_sayilar.append(i)\n",
    "   elif (i %2==0):\n",
    "       cift_sayilar.append(i)\n",
    "\n",
    "t=sum(tek_sayilar)\n",
    "c=sum(cift_sayilar)\n",
    "\n",
    "tek_adet=len(tek_sayilar)\n",
    "cift_adet=len(cift_sayilar)\n",
    "\n",
    "\n",
    "tek_ortalama=t/tek_adet\n",
    "cift_ortalama=c/cift_adet\n",
    "\n",
    "print(f\"Tek sayıların toplamı:{t:.2f}, Tek sayıların ortalaması: {tek_ortalama:.2f}\")\n",
    "print(f\"Çift sayıların toplamı: {c:.2f}, Çift sayıların ortalaması: {cift_ortalama:.2f}\")\n"
   ]
  },
  {
   "cell_type": "code",
   "execution_count": null,
   "id": "e0189eb7-702e-439e-97b0-fc13543e6794",
   "metadata": {},
   "outputs": [],
   "source": []
  }
 ],
 "metadata": {
  "kernelspec": {
   "display_name": "Python [conda env:base] *",
   "language": "python",
   "name": "conda-base-py"
  },
  "language_info": {
   "codemirror_mode": {
    "name": "ipython",
    "version": 3
   },
   "file_extension": ".py",
   "mimetype": "text/x-python",
   "name": "python",
   "nbconvert_exporter": "python",
   "pygments_lexer": "ipython3",
   "version": "3.13.5"
  }
 },
 "nbformat": 4,
 "nbformat_minor": 5
}
